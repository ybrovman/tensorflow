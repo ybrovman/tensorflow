{
 "cells": [
  {
   "cell_type": "markdown",
   "metadata": {
    "colab_type": "text",
    "id": "kR-4eNdK6lYS"
   },
   "source": [
    "Deep Learning\n",
    "=============\n",
    "\n",
    "Assignment 3\n",
    "------------\n",
    "\n",
    "Previously in `2_fullyconnected.ipynb`, you trained a logistic regression and a neural network model.\n",
    "\n",
    "The goal of this assignment is to explore regularization techniques."
   ]
  },
  {
   "cell_type": "code",
   "execution_count": 3,
   "metadata": {
    "cellView": "both",
    "colab": {
     "autoexec": {
      "startup": false,
      "wait_interval": 0
     }
    },
    "colab_type": "code",
    "collapsed": true,
    "id": "JLpLa8Jt7Vu4"
   },
   "outputs": [],
   "source": [
    "# These are all the modules we'll be using later. Make sure you can import them\n",
    "# before proceeding further.\n",
    "from __future__ import print_function\n",
    "import numpy as np\n",
    "import tensorflow as tf\n",
    "from six.moves import cPickle as pickle"
   ]
  },
  {
   "cell_type": "markdown",
   "metadata": {
    "colab_type": "text",
    "id": "1HrCK6e17WzV"
   },
   "source": [
    "First reload the data we generated in _notmist.ipynb_."
   ]
  },
  {
   "cell_type": "code",
   "execution_count": 4,
   "metadata": {
    "cellView": "both",
    "colab": {
     "autoexec": {
      "startup": false,
      "wait_interval": 0
     },
     "output_extras": [
      {
       "item_id": 1
      }
     ]
    },
    "colab_type": "code",
    "collapsed": false,
    "executionInfo": {
     "elapsed": 11777,
     "status": "ok",
     "timestamp": 1449849322348,
     "user": {
      "color": "",
      "displayName": "",
      "isAnonymous": false,
      "isMe": true,
      "permissionId": "",
      "photoUrl": "",
      "sessionId": "0",
      "userId": ""
     },
     "user_tz": 480
    },
    "id": "y3-cj1bpmuxc",
    "outputId": "e03576f1-ebbe-4838-c388-f1777bcc9873"
   },
   "outputs": [
    {
     "name": "stdout",
     "output_type": "stream",
     "text": [
      "Training set (200000, 28, 28) (200000,)\n",
      "Validation set (10000, 28, 28) (10000,)\n",
      "Test set (10000, 28, 28) (10000,)\n"
     ]
    }
   ],
   "source": [
    "pickle_file = 'notMNIST.pickle'\n",
    "\n",
    "with open(pickle_file, 'rb') as f:\n",
    "  save = pickle.load(f)\n",
    "  train_dataset = save['train_dataset']\n",
    "  train_labels = save['train_labels']\n",
    "  valid_dataset = save['valid_dataset']\n",
    "  valid_labels = save['valid_labels']\n",
    "  test_dataset = save['test_dataset']\n",
    "  test_labels = save['test_labels']\n",
    "  del save  # hint to help gc free up memory\n",
    "  print('Training set', train_dataset.shape, train_labels.shape)\n",
    "  print('Validation set', valid_dataset.shape, valid_labels.shape)\n",
    "  print('Test set', test_dataset.shape, test_labels.shape)"
   ]
  },
  {
   "cell_type": "markdown",
   "metadata": {
    "colab_type": "text",
    "id": "L7aHrm6nGDMB"
   },
   "source": [
    "Reformat into a shape that's more adapted to the models we're going to train:\n",
    "- data as a flat matrix,\n",
    "- labels as float 1-hot encodings."
   ]
  },
  {
   "cell_type": "code",
   "execution_count": 5,
   "metadata": {
    "cellView": "both",
    "colab": {
     "autoexec": {
      "startup": false,
      "wait_interval": 0
     },
     "output_extras": [
      {
       "item_id": 1
      }
     ]
    },
    "colab_type": "code",
    "collapsed": false,
    "executionInfo": {
     "elapsed": 11728,
     "status": "ok",
     "timestamp": 1449849322356,
     "user": {
      "color": "",
      "displayName": "",
      "isAnonymous": false,
      "isMe": true,
      "permissionId": "",
      "photoUrl": "",
      "sessionId": "0",
      "userId": ""
     },
     "user_tz": 480
    },
    "id": "IRSyYiIIGIzS",
    "outputId": "3f8996ee-3574-4f44-c953-5c8a04636582"
   },
   "outputs": [
    {
     "name": "stdout",
     "output_type": "stream",
     "text": [
      "Training set (200000, 784) (200000, 10)\n",
      "Validation set (10000, 784) (10000, 10)\n",
      "Test set (10000, 784) (10000, 10)\n"
     ]
    }
   ],
   "source": [
    "image_size = 28\n",
    "num_labels = 10\n",
    "\n",
    "def reformat(dataset, labels):\n",
    "  dataset = dataset.reshape((-1, image_size * image_size)).astype(np.float32)\n",
    "  # Map 1 to [0.0, 1.0, 0.0 ...], 2 to [0.0, 0.0, 1.0 ...]\n",
    "  labels = (np.arange(num_labels) == labels[:,None]).astype(np.float32)\n",
    "  return dataset, labels\n",
    "train_dataset, train_labels = reformat(train_dataset, train_labels)\n",
    "valid_dataset, valid_labels = reformat(valid_dataset, valid_labels)\n",
    "test_dataset, test_labels = reformat(test_dataset, test_labels)\n",
    "print('Training set', train_dataset.shape, train_labels.shape)\n",
    "print('Validation set', valid_dataset.shape, valid_labels.shape)\n",
    "print('Test set', test_dataset.shape, test_labels.shape)"
   ]
  },
  {
   "cell_type": "code",
   "execution_count": 6,
   "metadata": {
    "cellView": "both",
    "colab": {
     "autoexec": {
      "startup": false,
      "wait_interval": 0
     }
    },
    "colab_type": "code",
    "collapsed": true,
    "id": "RajPLaL_ZW6w"
   },
   "outputs": [],
   "source": [
    "def accuracy(predictions, labels):\n",
    "  return (100.0 * np.sum(np.argmax(predictions, 1) == np.argmax(labels, 1))\n",
    "          / predictions.shape[0])"
   ]
  },
  {
   "cell_type": "markdown",
   "metadata": {
    "colab_type": "text",
    "id": "sgLbUAQ1CW-1"
   },
   "source": [
    "---\n",
    "Problem 1\n",
    "---------\n",
    "\n",
    "Introduce and tune L2 regularization for both logistic and neural network models. Remember that L2 amounts to adding a penalty on the norm of the weights to the loss. In TensorFlow, you can compute the L2 loss for a tensor `t` using `nn.l2_loss(t)`. The right amount of regularization should improve your validation / test accuracy.\n",
    "\n",
    "---"
   ]
  },
  {
   "cell_type": "code",
   "execution_count": 5,
   "metadata": {
    "collapsed": false
   },
   "outputs": [
    {
     "name": "stdout",
     "output_type": "stream",
     "text": [
      "Hidden nodes size = 1024\n",
      "Step    0,\tMinibatch accuracy: 11.7,\tValidation accuracy: 29.8\n",
      "Step  500,\tMinibatch accuracy: 91.4,\tValidation accuracy: 85.0\n",
      "Step 1000,\tMinibatch accuracy: 83.6,\tValidation accuracy: 86.3\n",
      "Step 1500,\tMinibatch accuracy: 93.0,\tValidation accuracy: 86.6\n",
      "Step 2000,\tMinibatch accuracy: 92.2,\tValidation accuracy: 87.6\n",
      "Step 2500,\tMinibatch accuracy: 89.1,\tValidation accuracy: 87.8\n",
      "Step 3000,\tMinibatch accuracy: 87.5,\tValidation accuracy: 88.0\n",
      "Test accuracy: 93.9%\n"
     ]
    }
   ],
   "source": [
    "batch_size = 128\n",
    "hidden_nodes_size = 1024\n",
    "# sizes = [1, 5, 10, 100, 500, 1024, 2000]\n",
    "\n",
    "# for hidden_nodes_size in sizes:\n",
    "print(\"Hidden nodes size =\", hidden_nodes_size)\n",
    "def weight_variable(shape):\n",
    "  initial = tf.truncated_normal(shape, stddev=0.1)\n",
    "  return tf.Variable(initial)\n",
    "\n",
    "def bias_variable(shape):\n",
    "  initial = tf.constant(0.1, shape=shape)\n",
    "  return tf.Variable(initial)\n",
    "\n",
    "graph = tf.Graph()\n",
    "with graph.as_default():\n",
    "  # Input data. For the training data, we use a placeholder that will be fed\n",
    "  # at run time with a training minibatch.\n",
    "  tf_train_dataset = tf.placeholder(tf.float32, shape=(batch_size, image_size * image_size))\n",
    "  tf_train_labels = tf.placeholder(tf.float32, shape=(batch_size, num_labels))\n",
    "  tf_valid_dataset = tf.constant(valid_dataset)\n",
    "  tf_test_dataset = tf.constant(test_dataset)\n",
    "\n",
    "#   # Variables.\n",
    "#   weights = tf.Variable(tf.truncated_normal([image_size * image_size, num_labels]))\n",
    "#   biases = tf.Variable(tf.zeros([num_labels]))\n",
    "#   output = tf.matmul(tf_train_dataset, weights) + biases + 100000*tf.nn.l2_loss(weights)\n",
    "#   loss = tf.reduce_mean(tf.nn.softmax_cross_entropy_with_logits(output, tf_train_labels))\n",
    "\n",
    "  # Hidden Layer\n",
    "  weights_hidden = weight_variable([image_size * image_size, hidden_nodes_size])\n",
    "  biases_hidden = bias_variable([hidden_nodes_size])\n",
    "  hidden = tf.nn.relu(tf.matmul(tf_train_dataset, weights_hidden) + biases_hidden)\n",
    "\n",
    "  # Output Layer\n",
    "  weights_output = weight_variable([hidden_nodes_size, num_labels])\n",
    "  biases_output = bias_variable([num_labels])\n",
    "  output = tf.matmul(hidden, weights_output) + biases_output\n",
    "\n",
    "  # Training computation.\n",
    "  loss = tf.reduce_mean(tf.nn.softmax_cross_entropy_with_logits(output, tf_train_labels)) + 0*tf.nn.l2_loss(weights_output)\n",
    "\n",
    "  # Optimizer.\n",
    "  optimizer = tf.train.GradientDescentOptimizer(0.5).minimize(loss)\n",
    "\n",
    "  # Predictions for the training, validation, and test data.\n",
    "  train_prediction = tf.nn.softmax(output)\n",
    "  valid_prediction = tf.nn.softmax(tf.matmul(tf.nn.relu(tf.matmul(tf_valid_dataset, weights_hidden) + biases_hidden),\n",
    "                                             weights_output) + biases_output)\n",
    "  test_prediction = tf.nn.softmax(tf.matmul(tf.nn.relu(tf.matmul(tf_test_dataset, weights_hidden) + biases_hidden),\n",
    "                                             weights_output) + biases_output)\n",
    "num_steps = 3001\n",
    "\n",
    "with tf.Session(graph=graph) as session:\n",
    "  tf.initialize_all_variables().run()\n",
    "  # print(\"Initialized\")\n",
    "  for step in range(num_steps):\n",
    "    # Pick an offset within the training data, which has been randomized.\n",
    "    # Note: we could use better randomization across epochs.\n",
    "    offset = (step * batch_size) % (train_labels.shape[0] - batch_size)\n",
    "    # Generate a minibatch.\n",
    "    batch_data = train_dataset[offset:(offset + batch_size), :]\n",
    "    batch_labels = train_labels[offset:(offset + batch_size), :]\n",
    "    # Prepare a dictionary telling the session where to feed the minibatch.\n",
    "    # The key of the dictionary is the placeholder node of the graph to be fed,\n",
    "    # and the value is the numpy array to feed to it.\n",
    "    feed_dict = {tf_train_dataset : batch_data, tf_train_labels : batch_labels}\n",
    "    _, l, predictions = session.run([optimizer, loss, train_prediction], feed_dict=feed_dict)\n",
    "\n",
    "    if (step % 500 == 0):\n",
    "      pred = accuracy(predictions, batch_labels)\n",
    "      test = accuracy(valid_prediction.eval(), valid_labels)\n",
    "      print(\"Step {},\\tMinibatch accuracy: {:.1f},\\tValidation accuracy: {:.1f}\".format(str(step).rjust(4), pred, test))\n",
    "\n",
    "  print(\"Test accuracy: %.1f%%\" % accuracy(test_prediction.eval(), test_labels))"
   ]
  },
  {
   "cell_type": "markdown",
   "metadata": {
    "colab_type": "text",
    "id": "na8xX2yHZzNF"
   },
   "source": [
    "---\n",
    "Problem 2\n",
    "---------\n",
    "Let's demonstrate an extreme case of overfitting. Restrict your training data to just a few batches. What happens?\n",
    "\n",
    "---"
   ]
  },
  {
   "cell_type": "code",
   "execution_count": 15,
   "metadata": {
    "collapsed": false
   },
   "outputs": [],
   "source": [
    "def myNetwork(beta, num_steps, interval):\n",
    "    batch_size = 128\n",
    "    hidden_nodes_size = 1024\n",
    "    # sizes = [1, 5, 10, 100, 500, 1024, 2000]\n",
    "\n",
    "    # for hidden_nodes_size in sizes:\n",
    "    print(\"Hidden nodes size =\", hidden_nodes_size)\n",
    "    def weight_variable(shape):\n",
    "      initial = tf.truncated_normal(shape, stddev=0.1)\n",
    "      return tf.Variable(initial)\n",
    "\n",
    "    def bias_variable(shape):\n",
    "      initial = tf.constant(0.1, shape=shape)\n",
    "      return tf.Variable(initial)\n",
    "\n",
    "    graph = tf.Graph()\n",
    "    with graph.as_default():\n",
    "      # Input data. For the training data, we use a placeholder that will be fed\n",
    "      # at run time with a training minibatch.\n",
    "      tf_train_dataset = tf.placeholder(tf.float32, shape=(batch_size, image_size * image_size))\n",
    "      tf_train_labels = tf.placeholder(tf.float32, shape=(batch_size, num_labels))\n",
    "      tf_valid_dataset = tf.constant(valid_dataset)\n",
    "      tf_test_dataset = tf.constant(test_dataset)\n",
    "\n",
    "    #   # Variables.\n",
    "    #   weights = tf.Variable(tf.truncated_normal([image_size * image_size, num_labels]))\n",
    "    #   biases = tf.Variable(tf.zeros([num_labels]))\n",
    "    #   output = tf.matmul(tf_train_dataset, weights) + biases + 100000*tf.nn.l2_loss(weights)\n",
    "    #   loss = tf.reduce_mean(tf.nn.softmax_cross_entropy_with_logits(output, tf_train_labels))\n",
    "\n",
    "      # Hidden Layer\n",
    "      weights_hidden = weight_variable([image_size * image_size, hidden_nodes_size])\n",
    "      biases_hidden = bias_variable([hidden_nodes_size])\n",
    "      hidden = tf.nn.relu(tf.matmul(tf_train_dataset, weights_hidden) + biases_hidden)\n",
    "\n",
    "      # Output Layer\n",
    "      weights_output = weight_variable([hidden_nodes_size, num_labels])\n",
    "      biases_output = bias_variable([num_labels])\n",
    "      output = tf.matmul(hidden, weights_output) + biases_output\n",
    "\n",
    "      # Training computation.\n",
    "      loss = tf.reduce_mean(tf.nn.softmax_cross_entropy_with_logits(output, tf_train_labels)) + \\\n",
    "                                beta*tf.nn.l2_loss(weights_output)\n",
    "\n",
    "      # Optimizer.\n",
    "      optimizer = tf.train.GradientDescentOptimizer(0.5).minimize(loss)\n",
    "\n",
    "      # Predictions for the training, validation, and test data.\n",
    "      train_prediction = tf.nn.softmax(output)\n",
    "      valid_prediction = tf.nn.softmax(tf.matmul(tf.nn.relu(tf.matmul(tf_valid_dataset, weights_hidden) + biases_hidden),\n",
    "                                                 weights_output) + biases_output)\n",
    "      test_prediction = tf.nn.softmax(tf.matmul(tf.nn.relu(tf.matmul(tf_test_dataset, weights_hidden) + biases_hidden),\n",
    "                                                 weights_output) + biases_output)\n",
    "#     num_steps = 3001\n",
    "\n",
    "    with tf.Session(graph=graph) as session:\n",
    "      tf.initialize_all_variables().run()\n",
    "      # print(\"Initialized\")\n",
    "      for step in range(num_steps):\n",
    "        # Pick an offset within the training data, which has been randomized.\n",
    "        # Note: we could use better randomization across epochs.\n",
    "        offset = (step * batch_size) % (train_labels.shape[0] - batch_size)\n",
    "        # Generate a minibatch.\n",
    "        batch_data = train_dataset[offset:(offset + batch_size), :]\n",
    "        batch_labels = train_labels[offset:(offset + batch_size), :]\n",
    "        # Prepare a dictionary telling the session where to feed the minibatch.\n",
    "        # The key of the dictionary is the placeholder node of the graph to be fed,\n",
    "        # and the value is the numpy array to feed to it.\n",
    "        feed_dict = {tf_train_dataset : batch_data, tf_train_labels : batch_labels}\n",
    "        _, l, predictions = session.run([optimizer, loss, train_prediction], feed_dict=feed_dict)\n",
    "\n",
    "        if (step % interval == 0):\n",
    "          pred = accuracy(predictions, batch_labels)\n",
    "          test = accuracy(valid_prediction.eval(), valid_labels)\n",
    "          print(\"Step {},\\tMinibatch accuracy: {:.1f},\\tValidation accuracy: {:.1f}\".format(str(step).rjust(4), pred, test))\n",
    "\n",
    "      print(\"Test accuracy: %.1f%%\" % accuracy(test_prediction.eval(), test_labels))"
   ]
  },
  {
   "cell_type": "code",
   "execution_count": 10,
   "metadata": {
    "collapsed": false
   },
   "outputs": [
    {
     "name": "stdout",
     "output_type": "stream",
     "text": [
      "Hidden nodes size = 1024\n",
      "loss = Tensor(\"Mean:0\", shape=(), dtype=float32)\n",
      "Step    0,\tMinibatch accuracy: 7.0,\tValidation accuracy: 24.5\n",
      "Step  500,\tMinibatch accuracy: 90.6,\tValidation accuracy: 85.5\n",
      "Step 1000,\tMinibatch accuracy: 85.2,\tValidation accuracy: 86.2\n",
      "Step 1500,\tMinibatch accuracy: 93.0,\tValidation accuracy: 87.2\n",
      "Step 2000,\tMinibatch accuracy: 93.0,\tValidation accuracy: 87.3\n",
      "Step 2500,\tMinibatch accuracy: 89.8,\tValidation accuracy: 87.6\n",
      "Step 3000,\tMinibatch accuracy: 89.8,\tValidation accuracy: 88.1\n",
      "Test accuracy: 94.1%\n"
     ]
    }
   ],
   "source": [
    "myNetwork(0)"
   ]
  },
  {
   "cell_type": "code",
   "execution_count": 12,
   "metadata": {
    "collapsed": false
   },
   "outputs": [
    {
     "name": "stdout",
     "output_type": "stream",
     "text": [
      "Hidden nodes size = 1024\n",
      "Step    0,\tMinibatch accuracy: 14.8,\tValidation accuracy: 26.5\n",
      "Step  500,\tMinibatch accuracy: 73.4,\tValidation accuracy: 70.5\n",
      "Step 1000,\tMinibatch accuracy: 78.1,\tValidation accuracy: 68.3\n",
      "Step 1500,\tMinibatch accuracy: 81.2,\tValidation accuracy: 78.3\n",
      "Step 2000,\tMinibatch accuracy: 89.1,\tValidation accuracy: 79.0\n",
      "Step 2500,\tMinibatch accuracy: 69.5,\tValidation accuracy: 71.5\n",
      "Step 3000,\tMinibatch accuracy: 78.9,\tValidation accuracy: 78.4\n",
      "Test accuracy: 85.2%\n"
     ]
    }
   ],
   "source": [
    "myNetwork(1)"
   ]
  },
  {
   "cell_type": "code",
   "execution_count": 13,
   "metadata": {
    "collapsed": false
   },
   "outputs": [
    {
     "name": "stdout",
     "output_type": "stream",
     "text": [
      "Hidden nodes size = 1024\n",
      "Step    0,\tMinibatch accuracy: 10.2,\tValidation accuracy: 2.9\n",
      "Step  500,\tMinibatch accuracy: 9.4,\tValidation accuracy: 10.0\n",
      "Step 1000,\tMinibatch accuracy: 8.6,\tValidation accuracy: 10.0\n",
      "Step 1500,\tMinibatch accuracy: 11.7,\tValidation accuracy: 10.0\n",
      "Step 2000,\tMinibatch accuracy: 6.2,\tValidation accuracy: 10.0\n",
      "Step 2500,\tMinibatch accuracy: 10.2,\tValidation accuracy: 10.0\n",
      "Step 3000,\tMinibatch accuracy: 7.8,\tValidation accuracy: 10.0\n",
      "Test accuracy: 10.0%\n"
     ]
    }
   ],
   "source": [
    "myNetwork(10)"
   ]
  },
  {
   "cell_type": "code",
   "execution_count": 17,
   "metadata": {
    "collapsed": false
   },
   "outputs": [
    {
     "name": "stdout",
     "output_type": "stream",
     "text": [
      "Hidden nodes size = 1024\n",
      "Step    0,\tMinibatch accuracy: 12.5,\tValidation accuracy: 23.4\n",
      "Step  500,\tMinibatch accuracy: 89.8,\tValidation accuracy: 85.3\n",
      "Step 1000,\tMinibatch accuracy: 85.2,\tValidation accuracy: 86.6\n",
      "Step 1500,\tMinibatch accuracy: 93.8,\tValidation accuracy: 87.3\n",
      "Step 2000,\tMinibatch accuracy: 91.4,\tValidation accuracy: 87.2\n",
      "Step 2500,\tMinibatch accuracy: 89.8,\tValidation accuracy: 87.9\n",
      "Step 3000,\tMinibatch accuracy: 89.8,\tValidation accuracy: 88.2\n",
      "Test accuracy: 94.3%\n"
     ]
    }
   ],
   "source": [
    "myNetwork(0.001, 3001, 500)"
   ]
  },
  {
   "cell_type": "code",
   "execution_count": 18,
   "metadata": {
    "collapsed": false
   },
   "outputs": [
    {
     "name": "stdout",
     "output_type": "stream",
     "text": [
      "Hidden nodes size = 1024\n",
      "Step    0,\tMinibatch accuracy: 10.2,\tValidation accuracy: 23.3\n",
      "Step  500,\tMinibatch accuracy: 89.1,\tValidation accuracy: 84.8\n",
      "Step 1000,\tMinibatch accuracy: 83.6,\tValidation accuracy: 86.1\n",
      "Step 1500,\tMinibatch accuracy: 91.4,\tValidation accuracy: 87.2\n",
      "Step 2000,\tMinibatch accuracy: 93.0,\tValidation accuracy: 87.5\n",
      "Step 2500,\tMinibatch accuracy: 90.6,\tValidation accuracy: 87.7\n",
      "Step 3000,\tMinibatch accuracy: 89.8,\tValidation accuracy: 87.9\n",
      "Test accuracy: 94.0%\n"
     ]
    }
   ],
   "source": [
    "myNetwork(0.0001, 3001, 500)"
   ]
  },
  {
   "cell_type": "code",
   "execution_count": 16,
   "metadata": {
    "collapsed": false
   },
   "outputs": [
    {
     "name": "stdout",
     "output_type": "stream",
     "text": [
      "Hidden nodes size = 1024\n",
      "Step    0,\tMinibatch accuracy: 8.6,\tValidation accuracy: 32.2\n",
      "Step  500,\tMinibatch accuracy: 88.3,\tValidation accuracy: 85.2\n",
      "Step 1000,\tMinibatch accuracy: 83.6,\tValidation accuracy: 86.2\n",
      "Step 1500,\tMinibatch accuracy: 93.0,\tValidation accuracy: 86.0\n",
      "Step 2000,\tMinibatch accuracy: 93.8,\tValidation accuracy: 87.3\n",
      "Step 2500,\tMinibatch accuracy: 88.3,\tValidation accuracy: 87.5\n",
      "Step 3000,\tMinibatch accuracy: 85.2,\tValidation accuracy: 87.6\n",
      "Test accuracy: 93.8%\n"
     ]
    }
   ],
   "source": [
    "myNetwork(0, 3001, 500)"
   ]
  },
  {
   "cell_type": "code",
   "execution_count": 29,
   "metadata": {
    "collapsed": false
   },
   "outputs": [
    {
     "name": "stdout",
     "output_type": "stream",
     "text": [
      "Hidden nodes size = 1024\n",
      "Step    0,\tMinibatch accuracy: 11.7,\tValidation accuracy: 31.7\n",
      "Step    5,\tMinibatch accuracy: 55.5,\tValidation accuracy: 66.0\n",
      "Step   10,\tMinibatch accuracy: 74.2,\tValidation accuracy: 72.5\n",
      "Step   15,\tMinibatch accuracy: 71.1,\tValidation accuracy: 76.3\n",
      "Step   20,\tMinibatch accuracy: 80.5,\tValidation accuracy: 79.0\n",
      "Step   25,\tMinibatch accuracy: 73.4,\tValidation accuracy: 78.4\n",
      "Step   30,\tMinibatch accuracy: 86.7,\tValidation accuracy: 78.3\n",
      "Step   35,\tMinibatch accuracy: 75.0,\tValidation accuracy: 79.3\n",
      "Step   40,\tMinibatch accuracy: 72.7,\tValidation accuracy: 74.8\n",
      "Step   45,\tMinibatch accuracy: 78.9,\tValidation accuracy: 73.9\n",
      "Test accuracy: 84.4%\n"
     ]
    }
   ],
   "source": [
    "myNetwork(0, 50, 5)"
   ]
  },
  {
   "cell_type": "code",
   "execution_count": 35,
   "metadata": {
    "collapsed": false
   },
   "outputs": [
    {
     "name": "stdout",
     "output_type": "stream",
     "text": [
      "Hidden nodes size = 1024\n",
      "Step    0,\tMinibatch accuracy: 10.9,\tValidation accuracy: 16.9\n",
      "Step    5,\tMinibatch accuracy: 52.3,\tValidation accuracy: 64.2\n",
      "Step   10,\tMinibatch accuracy: 72.7,\tValidation accuracy: 74.4\n",
      "Step   15,\tMinibatch accuracy: 74.2,\tValidation accuracy: 77.5\n",
      "Step   20,\tMinibatch accuracy: 79.7,\tValidation accuracy: 78.2\n",
      "Step   25,\tMinibatch accuracy: 71.9,\tValidation accuracy: 77.0\n",
      "Step   30,\tMinibatch accuracy: 80.5,\tValidation accuracy: 78.1\n",
      "Step   35,\tMinibatch accuracy: 76.6,\tValidation accuracy: 78.9\n",
      "Step   40,\tMinibatch accuracy: 75.8,\tValidation accuracy: 77.3\n",
      "Step   45,\tMinibatch accuracy: 84.4,\tValidation accuracy: 76.6\n",
      "Test accuracy: 86.6%\n"
     ]
    }
   ],
   "source": [
    "myNetwork(0.01, 50, 5)"
   ]
  },
  {
   "cell_type": "markdown",
   "metadata": {
    "colab_type": "text",
    "id": "ww3SCBUdlkRc"
   },
   "source": [
    "---\n",
    "Problem 3\n",
    "---------\n",
    "Introduce Dropout on the hidden layer of the neural network. Remember: Dropout should only be introduced during training, not evaluation, otherwise your evaluation results would be stochastic as well. TensorFlow provides `nn.dropout()` for that, but you have to make sure it's only inserted during training.\n",
    "\n",
    "What happens to our extreme overfitting case?\n",
    "\n",
    "---"
   ]
  },
  {
   "cell_type": "code",
   "execution_count": 51,
   "metadata": {
    "collapsed": true
   },
   "outputs": [],
   "source": [
    "def myNetwork2(beta, num_steps, interval):\n",
    "    batch_size = 128\n",
    "    hidden_nodes_size = 1024\n",
    "    # sizes = [1, 5, 10, 100, 500, 1024, 2000]\n",
    "\n",
    "    # for hidden_nodes_size in sizes:\n",
    "    print(\"Hidden nodes size =\", hidden_nodes_size)\n",
    "    def weight_variable(shape):\n",
    "      initial = tf.truncated_normal(shape, stddev=0.1)\n",
    "      return tf.Variable(initial)\n",
    "\n",
    "    def bias_variable(shape):\n",
    "      initial = tf.constant(0.1, shape=shape)\n",
    "      return tf.Variable(initial)\n",
    "\n",
    "    graph = tf.Graph()\n",
    "    with graph.as_default():\n",
    "      # Input data. For the training data, we use a placeholder that will be fed\n",
    "      # at run time with a training minibatch.\n",
    "      tf_train_dataset = tf.placeholder(tf.float32, shape=(batch_size, image_size * image_size))\n",
    "      tf_train_labels = tf.placeholder(tf.float32, shape=(batch_size, num_labels))\n",
    "      tf_valid_dataset = tf.constant(valid_dataset)\n",
    "      tf_test_dataset = tf.constant(test_dataset)\n",
    "\n",
    "    #   # Variables.\n",
    "    #   weights = tf.Variable(tf.truncated_normal([image_size * image_size, num_labels]))\n",
    "    #   biases = tf.Variable(tf.zeros([num_labels]))\n",
    "    #   output = tf.matmul(tf_train_dataset, weights) + biases + 100000*tf.nn.l2_loss(weights)\n",
    "    #   loss = tf.reduce_mean(tf.nn.softmax_cross_entropy_with_logits(output, tf_train_labels))\n",
    "\n",
    "      # Hidden Layer\n",
    "      weights_hidden = weight_variable([image_size * image_size, hidden_nodes_size])\n",
    "      biases_hidden = bias_variable([hidden_nodes_size])\n",
    "      dropped_train = tf.nn.dropout(tf_train_dataset, 0.9)  \n",
    "      hidden = tf.nn.relu(tf.matmul(dropped_train, weights_hidden) + biases_hidden)\n",
    "\n",
    "      # Output Layer\n",
    "      weights_output = weight_variable([hidden_nodes_size, num_labels])\n",
    "      biases_output = bias_variable([num_labels])\n",
    "      output = tf.matmul(hidden, weights_output) + biases_output\n",
    "\n",
    "      # Training computation.\n",
    "      loss = tf.reduce_mean(tf.nn.softmax_cross_entropy_with_logits(output, tf_train_labels)) + \\\n",
    "                                beta*tf.nn.l2_loss(weights_output)\n",
    "\n",
    "      # Optimizer.\n",
    "      optimizer = tf.train.GradientDescentOptimizer(0.5).minimize(loss)\n",
    "\n",
    "      # Predictions for the training, validation, and test data.\n",
    "      train_prediction = tf.nn.softmax(output)\n",
    "      valid_prediction = tf.nn.softmax(tf.matmul(tf.nn.relu(tf.matmul(tf_valid_dataset, weights_hidden) + biases_hidden),\n",
    "                                                 weights_output) + biases_output)\n",
    "      test_prediction = tf.nn.softmax(tf.matmul(tf.nn.relu(tf.matmul(tf_test_dataset, weights_hidden) + biases_hidden),\n",
    "                                                 weights_output) + biases_output)\n",
    "#     num_steps = 3001\n",
    "\n",
    "    with tf.Session(graph=graph) as session:\n",
    "      tf.initialize_all_variables().run()\n",
    "      # print(\"Initialized\")\n",
    "      for step in range(num_steps):\n",
    "        # Pick an offset within the training data, which has been randomized.\n",
    "        # Note: we could use better randomization across epochs.\n",
    "        offset = (step * batch_size) % (train_labels.shape[0] - batch_size)\n",
    "        # Generate a minibatch.\n",
    "        batch_data = train_dataset[offset:(offset + batch_size), :]\n",
    "        batch_labels = train_labels[offset:(offset + batch_size), :]\n",
    "        # Prepare a dictionary telling the session where to feed the minibatch.\n",
    "        # The key of the dictionary is the placeholder node of the graph to be fed,\n",
    "        # and the value is the numpy array to feed to it.\n",
    "        feed_dict = {tf_train_dataset : batch_data, tf_train_labels : batch_labels}\n",
    "        _, l, predictions = session.run([optimizer, loss, train_prediction], feed_dict=feed_dict)\n",
    "\n",
    "        if (step % interval == 0):\n",
    "          pred = accuracy(predictions, batch_labels)\n",
    "          test = accuracy(valid_prediction.eval(), valid_labels)\n",
    "          print(\"Step {},\\tMinibatch accuracy: {:.1f},\\tValidation accuracy: {:.1f}\".format(str(step).rjust(4), pred, test))\n",
    "\n",
    "      print(\"Test accuracy: %.1f%%\" % accuracy(test_prediction.eval(), test_labels))"
   ]
  },
  {
   "cell_type": "code",
   "execution_count": 20,
   "metadata": {
    "collapsed": false
   },
   "outputs": [
    {
     "name": "stdout",
     "output_type": "stream",
     "text": [
      "Hidden nodes size = 1024\n",
      "Step    0,\tMinibatch accuracy: 7.0,\tValidation accuracy: 32.1\n",
      "Step    5,\tMinibatch accuracy: 49.2,\tValidation accuracy: 63.3\n",
      "Step   10,\tMinibatch accuracy: 75.0,\tValidation accuracy: 77.4\n",
      "Step   15,\tMinibatch accuracy: 78.9,\tValidation accuracy: 77.0\n",
      "Step   20,\tMinibatch accuracy: 78.9,\tValidation accuracy: 75.3\n",
      "Step   25,\tMinibatch accuracy: 70.3,\tValidation accuracy: 79.3\n",
      "Step   30,\tMinibatch accuracy: 82.0,\tValidation accuracy: 79.1\n",
      "Step   35,\tMinibatch accuracy: 75.0,\tValidation accuracy: 79.5\n",
      "Step   40,\tMinibatch accuracy: 74.2,\tValidation accuracy: 75.6\n",
      "Step   45,\tMinibatch accuracy: 78.9,\tValidation accuracy: 72.4\n",
      "Test accuracy: 86.2%\n"
     ]
    }
   ],
   "source": [
    "myNetwork2(0.01, 50, 5)"
   ]
  },
  {
   "cell_type": "code",
   "execution_count": 54,
   "metadata": {
    "collapsed": false
   },
   "outputs": [
    {
     "name": "stdout",
     "output_type": "stream",
     "text": [
      "Hidden nodes size = 1024\n",
      "Step    0,\tMinibatch accuracy: 14.1,\tValidation accuracy: 30.2\n",
      "Step   50,\tMinibatch accuracy: 81.2,\tValidation accuracy: 79.2\n",
      "Step  100,\tMinibatch accuracy: 82.0,\tValidation accuracy: 81.6\n",
      "Step  150,\tMinibatch accuracy: 76.6,\tValidation accuracy: 78.2\n",
      "Step  200,\tMinibatch accuracy: 82.8,\tValidation accuracy: 81.3\n",
      "Step  250,\tMinibatch accuracy: 85.9,\tValidation accuracy: 82.6\n",
      "Step  300,\tMinibatch accuracy: 75.8,\tValidation accuracy: 81.6\n",
      "Step  350,\tMinibatch accuracy: 85.2,\tValidation accuracy: 82.9\n",
      "Step  400,\tMinibatch accuracy: 85.2,\tValidation accuracy: 83.6\n",
      "Step  450,\tMinibatch accuracy: 86.7,\tValidation accuracy: 84.2\n",
      "Test accuracy: 90.0%\n"
     ]
    }
   ],
   "source": [
    "myNetwork2(0.01, 500, 50)"
   ]
  },
  {
   "cell_type": "code",
   "execution_count": 55,
   "metadata": {
    "collapsed": false
   },
   "outputs": [
    {
     "name": "stdout",
     "output_type": "stream",
     "text": [
      "Hidden nodes size = 1024\n",
      "Step    0,\tMinibatch accuracy: 8.6,\tValidation accuracy: 22.8\n",
      "Step  500,\tMinibatch accuracy: 86.7,\tValidation accuracy: 84.0\n",
      "Step 1000,\tMinibatch accuracy: 85.2,\tValidation accuracy: 84.0\n",
      "Step 1500,\tMinibatch accuracy: 90.6,\tValidation accuracy: 85.8\n",
      "Step 2000,\tMinibatch accuracy: 93.8,\tValidation accuracy: 86.2\n",
      "Step 2500,\tMinibatch accuracy: 86.7,\tValidation accuracy: 86.1\n",
      "Step 3000,\tMinibatch accuracy: 85.2,\tValidation accuracy: 86.2\n",
      "Test accuracy: 92.8%\n"
     ]
    }
   ],
   "source": [
    "myNetwork2(0.01, 3001, 500)"
   ]
  },
  {
   "cell_type": "code",
   "execution_count": 56,
   "metadata": {
    "collapsed": false
   },
   "outputs": [
    {
     "name": "stdout",
     "output_type": "stream",
     "text": [
      "Hidden nodes size = 1024\n",
      "Step    0,\tMinibatch accuracy: 11.7,\tValidation accuracy: 34.7\n",
      "Step  500,\tMinibatch accuracy: 86.7,\tValidation accuracy: 83.5\n",
      "Step 1000,\tMinibatch accuracy: 85.2,\tValidation accuracy: 84.4\n",
      "Step 1500,\tMinibatch accuracy: 89.1,\tValidation accuracy: 85.7\n",
      "Step 2000,\tMinibatch accuracy: 91.4,\tValidation accuracy: 85.7\n",
      "Step 2500,\tMinibatch accuracy: 85.9,\tValidation accuracy: 86.4\n",
      "Step 3000,\tMinibatch accuracy: 85.2,\tValidation accuracy: 86.2\n",
      "Test accuracy: 92.8%\n"
     ]
    }
   ],
   "source": [
    "myNetwork2(0.01, 3001, 500)"
   ]
  },
  {
   "cell_type": "markdown",
   "metadata": {
    "colab_type": "text",
    "id": "-b1hTz3VWZjw"
   },
   "source": [
    "---\n",
    "Problem 4\n",
    "---------\n",
    "\n",
    "Try to get the best performance you can using a multi-layer model! The best reported test accuracy using a deep network is [97.1%](http://yaroslavvb.blogspot.com/2011/09/notmnist-dataset.html?showComment=1391023266211#c8758720086795711595).\n",
    "\n",
    "One avenue you can explore is to add multiple layers.\n",
    "\n",
    "Another one is to use learning rate decay:\n",
    "\n",
    "    global_step = tf.Variable(0)  # count the number of steps taken.\n",
    "    learning_rate = tf.train.exponential_decay(0.5, global_step, ...)\n",
    "    optimizer = tf.train.GradientDescentOptimizer(learning_rate).minimize(loss, global_step=global_step)\n",
    " \n",
    " ---\n"
   ]
  },
  {
   "cell_type": "code",
   "execution_count": 73,
   "metadata": {
    "collapsed": true
   },
   "outputs": [],
   "source": [
    "def myNetwork3(beta, num_steps, interval):\n",
    "    batch_size = 128\n",
    "    hidden_nodes_size = 1024\n",
    "    # sizes = [1, 5, 10, 100, 500, 1024, 2000]\n",
    "\n",
    "    # for hidden_nodes_size in sizes:\n",
    "    print(\"Hidden nodes size =\", hidden_nodes_size)\n",
    "    def weight_variable(shape):\n",
    "      initial = tf.truncated_normal(shape, stddev=0.1)\n",
    "      return tf.Variable(initial)\n",
    "\n",
    "    def bias_variable(shape):\n",
    "      initial = tf.constant(0.1, shape=shape)\n",
    "      return tf.Variable(initial)\n",
    "\n",
    "    graph = tf.Graph()\n",
    "    with graph.as_default():\n",
    "      # Input data. For the training data, we use a placeholder that will be fed\n",
    "      # at run time with a training minibatch.\n",
    "      tf_train_dataset = tf.placeholder(tf.float32, shape=(batch_size, image_size * image_size))\n",
    "      tf_train_labels = tf.placeholder(tf.float32, shape=(batch_size, num_labels))\n",
    "      tf_valid_dataset = tf.constant(valid_dataset)\n",
    "      tf_test_dataset = tf.constant(test_dataset)\n",
    "\n",
    "    #   # Variables.\n",
    "    #   weights = tf.Variable(tf.truncated_normal([image_size * image_size, num_labels]))\n",
    "    #   biases = tf.Variable(tf.zeros([num_labels]))\n",
    "    #   output = tf.matmul(tf_train_dataset, weights) + biases + 100000*tf.nn.l2_loss(weights)\n",
    "    #   loss = tf.reduce_mean(tf.nn.softmax_cross_entropy_with_logits(output, tf_train_labels))\n",
    "\n",
    "      # Hidden Layer\n",
    "      weights_hidden = weight_variable([image_size * image_size, hidden_nodes_size])\n",
    "      biases_hidden = bias_variable([hidden_nodes_size])\n",
    "      dropped_train = tf.nn.dropout(tf_train_dataset, 0.9)  \n",
    "      hidden = tf.nn.relu(tf.matmul(dropped_train, weights_hidden) + biases_hidden)\n",
    "\n",
    "      # Output Layer\n",
    "      weights_output = weight_variable([hidden_nodes_size, num_labels])\n",
    "      biases_output = bias_variable([num_labels])\n",
    "      output = tf.matmul(hidden, weights_output) + biases_output\n",
    "\n",
    "      # Training computation.\n",
    "      loss = tf.reduce_mean(tf.nn.softmax_cross_entropy_with_logits(output, tf_train_labels)) + \\\n",
    "                                beta*tf.nn.l2_loss(weights_output)\n",
    "\n",
    "      # Optimizer.\n",
    "      #optimizer = tf.train.GradientDescentOptimizer(0.5).minimize(loss)\n",
    "      global_step = tf.Variable(0)  # count the number of steps taken.\n",
    "      learning_rate = tf.train.exponential_decay(0.5, global_step, num_steps, 0.96)\n",
    "      optimizer = tf.train.GradientDescentOptimizer(learning_rate).minimize(loss, global_step=global_step)        \n",
    "        \n",
    "      # Predictions for the training, validation, and test data.\n",
    "      train_prediction = tf.nn.softmax(output)\n",
    "      valid_prediction = tf.nn.softmax(tf.matmul(tf.nn.relu(tf.matmul(tf_valid_dataset, weights_hidden) + biases_hidden),\n",
    "                                                 weights_output) + biases_output)\n",
    "      test_prediction = tf.nn.softmax(tf.matmul(tf.nn.relu(tf.matmul(tf_test_dataset, weights_hidden) + biases_hidden),\n",
    "                                                 weights_output) + biases_output)\n",
    "#     num_steps = 3001\n",
    "\n",
    "    with tf.Session(graph=graph) as session:\n",
    "      tf.initialize_all_variables().run()\n",
    "      # print(\"Initialized\")\n",
    "      for step in range(num_steps):\n",
    "        # Pick an offset within the training data, which has been randomized.\n",
    "        # Note: we could use better randomization across epochs.\n",
    "        offset = (step * batch_size) % (train_labels.shape[0] - batch_size)\n",
    "        # Generate a minibatch.\n",
    "        batch_data = train_dataset[offset:(offset + batch_size), :]\n",
    "        batch_labels = train_labels[offset:(offset + batch_size), :]\n",
    "        # Prepare a dictionary telling the session where to feed the minibatch.\n",
    "        # The key of the dictionary is the placeholder node of the graph to be fed,\n",
    "        # and the value is the numpy array to feed to it.\n",
    "        feed_dict = {tf_train_dataset : batch_data, tf_train_labels : batch_labels}\n",
    "        _, l, predictions = session.run([optimizer, loss, train_prediction], feed_dict=feed_dict)\n",
    "\n",
    "        if (step % interval == 0):\n",
    "          pred = accuracy(predictions, batch_labels)\n",
    "          test = accuracy(valid_prediction.eval(), valid_labels)\n",
    "          print(\"Step {},\\tMinibatch accuracy: {:.1f},\\tValidation accuracy: {:.1f}\".format(str(step).rjust(4), pred, test))\n",
    "\n",
    "      print(\"Test accuracy: %.1f%%\" % accuracy(test_prediction.eval(), test_labels))"
   ]
  },
  {
   "cell_type": "code",
   "execution_count": 58,
   "metadata": {
    "collapsed": false
   },
   "outputs": [
    {
     "name": "stdout",
     "output_type": "stream",
     "text": [
      "Hidden nodes size = 1024\n",
      "Step    0,\tMinibatch accuracy: 7.8,\tValidation accuracy: 26.9\n",
      "Step  500,\tMinibatch accuracy: 87.5,\tValidation accuracy: 83.6\n",
      "Step 1000,\tMinibatch accuracy: 84.4,\tValidation accuracy: 84.7\n",
      "Step 1500,\tMinibatch accuracy: 92.2,\tValidation accuracy: 85.7\n",
      "Step 2000,\tMinibatch accuracy: 92.2,\tValidation accuracy: 85.8\n",
      "Step 2500,\tMinibatch accuracy: 87.5,\tValidation accuracy: 86.2\n",
      "Step 3000,\tMinibatch accuracy: 85.9,\tValidation accuracy: 86.6\n",
      "Test accuracy: 93.0%\n"
     ]
    }
   ],
   "source": [
    "myNetwork3(0.01, 3001, 500)"
   ]
  },
  {
   "cell_type": "code",
   "execution_count": 63,
   "metadata": {
    "collapsed": false
   },
   "outputs": [
    {
     "name": "stdout",
     "output_type": "stream",
     "text": [
      "Hidden nodes size = 1024\n",
      "Step    0,\tMinibatch accuracy: 13.3,\tValidation accuracy: 28.3\n",
      "Step  500,\tMinibatch accuracy: 85.9,\tValidation accuracy: 83.9\n",
      "Step 1000,\tMinibatch accuracy: 84.4,\tValidation accuracy: 84.9\n",
      "Step 1500,\tMinibatch accuracy: 88.3,\tValidation accuracy: 85.9\n",
      "Step 2000,\tMinibatch accuracy: 91.4,\tValidation accuracy: 86.2\n",
      "Step 2500,\tMinibatch accuracy: 86.7,\tValidation accuracy: 86.2\n",
      "Step 3000,\tMinibatch accuracy: 84.4,\tValidation accuracy: 86.7\n",
      "Test accuracy: 93.2%\n"
     ]
    }
   ],
   "source": [
    "myNetwork3(0.01, 3001, 500)"
   ]
  },
  {
   "cell_type": "code",
   "execution_count": 74,
   "metadata": {
    "collapsed": false
   },
   "outputs": [
    {
     "name": "stdout",
     "output_type": "stream",
     "text": [
      "Hidden nodes size = 1024\n",
      "Step    0,\tMinibatch accuracy: 7.0,\tValidation accuracy: 22.2\n",
      "Step  500,\tMinibatch accuracy: 88.3,\tValidation accuracy: 84.0\n",
      "Step 1000,\tMinibatch accuracy: 82.0,\tValidation accuracy: 84.4\n",
      "Step 1500,\tMinibatch accuracy: 88.3,\tValidation accuracy: 85.5\n",
      "Step 2000,\tMinibatch accuracy: 89.8,\tValidation accuracy: 85.9\n",
      "Step 2500,\tMinibatch accuracy: 85.9,\tValidation accuracy: 85.8\n",
      "Step 3000,\tMinibatch accuracy: 87.5,\tValidation accuracy: 86.3\n",
      "Test accuracy: 92.9%\n"
     ]
    }
   ],
   "source": [
    "myNetwork3(0.01, 3001, 500)"
   ]
  },
  {
   "cell_type": "code",
   "execution_count": 75,
   "metadata": {
    "collapsed": false
   },
   "outputs": [
    {
     "name": "stdout",
     "output_type": "stream",
     "text": [
      "Hidden nodes size = 1024\n",
      "Step    0,\tMinibatch accuracy: 3.9,\tValidation accuracy: 30.8\n",
      "Step  500,\tMinibatch accuracy: 84.4,\tValidation accuracy: 83.4\n",
      "Step 1000,\tMinibatch accuracy: 87.5,\tValidation accuracy: 84.5\n",
      "Step 1500,\tMinibatch accuracy: 89.8,\tValidation accuracy: 85.8\n",
      "Step 2000,\tMinibatch accuracy: 93.8,\tValidation accuracy: 86.1\n",
      "Step 2500,\tMinibatch accuracy: 87.5,\tValidation accuracy: 85.8\n",
      "Step 3000,\tMinibatch accuracy: 83.6,\tValidation accuracy: 86.1\n",
      "Step 3500,\tMinibatch accuracy: 84.4,\tValidation accuracy: 86.8\n",
      "Step 4000,\tMinibatch accuracy: 89.8,\tValidation accuracy: 87.1\n",
      "Step 4500,\tMinibatch accuracy: 88.3,\tValidation accuracy: 86.8\n",
      "Step 5000,\tMinibatch accuracy: 88.3,\tValidation accuracy: 87.2\n",
      "Step 5500,\tMinibatch accuracy: 85.9,\tValidation accuracy: 86.8\n",
      "Step 6000,\tMinibatch accuracy: 85.2,\tValidation accuracy: 86.9\n",
      "Step 6500,\tMinibatch accuracy: 92.2,\tValidation accuracy: 87.1\n",
      "Step 7000,\tMinibatch accuracy: 85.9,\tValidation accuracy: 87.7\n",
      "Step 7500,\tMinibatch accuracy: 82.8,\tValidation accuracy: 86.9\n",
      "Step 8000,\tMinibatch accuracy: 82.0,\tValidation accuracy: 87.2\n",
      "Step 8500,\tMinibatch accuracy: 91.4,\tValidation accuracy: 87.2\n",
      "Step 9000,\tMinibatch accuracy: 84.4,\tValidation accuracy: 86.8\n",
      "Step 9500,\tMinibatch accuracy: 87.5,\tValidation accuracy: 87.4\n",
      "Step 10000,\tMinibatch accuracy: 87.5,\tValidation accuracy: 87.7\n",
      "Test accuracy: 94.0%\n"
     ]
    }
   ],
   "source": [
    "myNetwork3(0.01, 10001, 500)"
   ]
  },
  {
   "cell_type": "code",
   "execution_count": null,
   "metadata": {
    "collapsed": true
   },
   "outputs": [],
   "source": []
  }
 ],
 "metadata": {
  "colab": {
   "default_view": {},
   "name": "3_regularization.ipynb",
   "provenance": [],
   "version": "0.3.2",
   "views": {}
  },
  "kernelspec": {
   "display_name": "Python 2",
   "language": "python",
   "name": "python2"
  },
  "language_info": {
   "codemirror_mode": {
    "name": "ipython",
    "version": 2
   },
   "file_extension": ".py",
   "mimetype": "text/x-python",
   "name": "python",
   "nbconvert_exporter": "python",
   "pygments_lexer": "ipython2",
   "version": "2.7.11"
  }
 },
 "nbformat": 4,
 "nbformat_minor": 0
}
